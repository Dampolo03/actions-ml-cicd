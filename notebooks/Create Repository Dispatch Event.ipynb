{
 "cells": [
  {
   "cell_type": "markdown",
   "metadata": {},
   "source": [
    "Shows how to create a [repository dispatch event](https://developer.github.com/v3/repos/#create-a-repository-dispatch-event)\n",
    "\n",
    "Notes how to test from the command line\n",
    "\n",
    "```bash\n",
    "curl --request POST \\\n",
    "  --url https://api.github.com/repos/machine-learning-apps/actions-ml-ci-cd/dispatches \\\n",
    "  --header 'accept: application/vnd.github.everest-preview+json' \\\n",
    "  --header 'authorization: Bearer {your_personal_access_token_here}' \\\n",
    "  --header 'content-type: application/json' \\\n",
    "  --data '{\n",
    "    \"event_type\": \"update deployment\"\n",
    "}'\n",
    "```"
   ]
  },
  {
   "cell_type": "code",
   "execution_count": 4,
   "metadata": {},
   "outputs": [],
   "source": [
    "import os\n",
    "import requests"
   ]
  },
  {
   "cell_type": "code",
   "execution_count": 5,
   "metadata": {},
   "outputs": [],
   "source": [
    "personal_access_token = os.getenv('PAT')"
   ]
  },
  {
   "cell_type": "code",
   "execution_count": 29,
   "metadata": {},
   "outputs": [],
   "source": [
    "owner='machine-learning-apps'\n",
    "repo='actions-ml-cicd'"
   ]
  },
  {
   "cell_type": "code",
   "execution_count": 37,
   "metadata": {},
   "outputs": [],
   "source": [
    "url = f'https://api.github.com/repos/{owner}/{repo}/dispatches'\n",
    "headers = {'authorization': f'token {personal_access_token}',\n",
    "           'accept': 'application/vnd.github.everest-preview+json'}\n",
    "\n",
    "data = {'event_type': 'hameltestpayload'}"
   ]
  },
  {
   "cell_type": "code",
   "execution_count": 38,
   "metadata": {},
   "outputs": [],
   "source": [
    "response = requests.post(url=url, headers=headers, json=data)"
   ]
  },
  {
   "cell_type": "code",
   "execution_count": 43,
   "metadata": {},
   "outputs": [],
   "source": [
    "assert response.status_code == 204 # per documentation you should get Status: 204 No Content Returned"
   ]
  },
  {
   "cell_type": "code",
   "execution_count": null,
   "metadata": {},
   "outputs": [],
   "source": []
  }
 ],
 "metadata": {
  "kernelspec": {
   "display_name": "actions-ml-cicd",
   "language": "python",
   "name": "actions-ml-cicd"
  },
  "language_info": {
   "codemirror_mode": {
    "name": "ipython",
    "version": 3
   },
   "file_extension": ".py",
   "mimetype": "text/x-python",
   "name": "python",
   "nbconvert_exporter": "python",
   "pygments_lexer": "ipython3",
   "version": "3.7.4"
  }
 },
 "nbformat": 4,
 "nbformat_minor": 2
}
