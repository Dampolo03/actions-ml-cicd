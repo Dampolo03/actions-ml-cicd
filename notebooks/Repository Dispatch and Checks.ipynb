{
 "cells": [
  {
   "cell_type": "markdown",
   "metadata": {},
   "source": [
    "# Repository Dispatch"
   ]
  },
  {
   "cell_type": "markdown",
   "metadata": {},
   "source": [
    "Shows how to create a [repository dispatch event](https://developer.github.com/v3/repos/#create-a-repository-dispatch-event)\n",
    "\n",
    "Notes how to test from the command line\n",
    "\n",
    "```bash\n",
    "curl --request POST \\\n",
    "  --url https://api.github.com/repos/machine-learning-apps/actions-ml-ci-cd/dispatches \\\n",
    "  --header 'accept: application/vnd.github.everest-preview+json' \\\n",
    "  --header 'authorization: Bearer {your_personal_access_token_here}' \\\n",
    "  --header 'content-type: application/json' \\\n",
    "  --data '{\n",
    "    \"event_type\": \"update deployment\"\n",
    "}'\n",
    "```"
   ]
  },
  {
   "cell_type": "code",
   "execution_count": 50,
   "metadata": {},
   "outputs": [],
   "source": [
    "import os\n",
    "import requests"
   ]
  },
  {
   "cell_type": "code",
   "execution_count": 51,
   "metadata": {},
   "outputs": [],
   "source": [
    "personal_access_token = os.getenv('PAT')"
   ]
  },
  {
   "cell_type": "code",
   "execution_count": 52,
   "metadata": {},
   "outputs": [],
   "source": [
    "owner='machine-learning-apps'\n",
    "repo='actions-ml-cicd'"
   ]
  },
  {
   "cell_type": "code",
   "execution_count": 53,
   "metadata": {},
   "outputs": [],
   "source": [
    "url = f'https://api.github.com/repos/{owner}/{repo}/dispatches'\n",
    "headers = {'authorization': f'token {personal_access_token}',\n",
    "           'accept': 'application/vnd.github.everest-preview+json'}\n",
    "\n",
    "data = {'event_type': 'hameltestpayload'}"
   ]
  },
  {
   "cell_type": "code",
   "execution_count": 54,
   "metadata": {},
   "outputs": [],
   "source": [
    "response = requests.post(url=url, headers=headers, json=data)"
   ]
  },
  {
   "cell_type": "code",
   "execution_count": 55,
   "metadata": {},
   "outputs": [],
   "source": [
    "assert response.status_code == 204 # per documentation you should get Status: 204 No Content Returned"
   ]
  },
  {
   "cell_type": "markdown",
   "metadata": {},
   "source": [
    "## Payload Recieved\n",
    "\n",
    "```json\n",
    "\n",
    "{\n",
    "  \"action\": \"hameltestpayload\",\n",
    "  \"branch\": \"master\",\n",
    "  \"client_payload\": null,\n",
    "  \"organization\": {\n",
    "    \"avatar_url\": \"https://avatars2.githubusercontent.com/u/49846054?v=4\",\n",
    "    \"description\": \"GitHub Apps Powered By Machine Learning\",\n",
    "    \"events_url\": \"https://api.github.com/orgs/machine-learning-apps/events\",\n",
    "    \"hooks_url\": \"https://api.github.com/orgs/machine-learning-apps/hooks\",\n",
    "    \"id\": 49846054,\n",
    "    \"issues_url\": \"https://api.github.com/orgs/machine-learning-apps/issues\",\n",
    "    \"login\": \"machine-learning-apps\",\n",
    "    \"members_url\": \"https://api.github.com/orgs/machine-learning-apps/members{/member}\",\n",
    "    \"node_id\": \"MDEyOk9yZ2FuaXphdGlvbjQ5ODQ2MDU0\",\n",
    "    \"public_members_url\": \"https://api.github.com/orgs/machine-learning-apps/public_members{/member}\",\n",
    "    \"repos_url\": \"https://api.github.com/orgs/machine-learning-apps/repos\",\n",
    "    \"url\": \"https://api.github.com/orgs/machine-learning-apps\"\n",
    "  },\n",
    "  \"repository\": {\n",
    "    \"archive_url\": \"https://api.github.com/repos/machine-learning-apps/actions-ml-cicd/{archive_format}{/ref}\",\n",
    "    \"archived\": false,\n",
    "    \"assignees_url\": \"https://api.github.com/repos/machine-learning-apps/actions-ml-cicd/assignees{/user}\",\n",
    "    \"blobs_url\": \"https://api.github.com/repos/machine-learning-apps/actions-ml-cicd/git/blobs{/sha}\",\n",
    "    \"branches_url\": \"https://api.github.com/repos/machine-learning-apps/actions-ml-cicd/branches{/branch}\",\n",
    "    \"clone_url\": \"https://github.com/machine-learning-apps/actions-ml-cicd.git\",\n",
    "    \"collaborators_url\": \"https://api.github.com/repos/machine-learning-apps/actions-ml-cicd/collaborators{/collaborator}\",\n",
    "    \"comments_url\": \"https://api.github.com/repos/machine-learning-apps/actions-ml-cicd/comments{/number}\",\n",
    "    \"commits_url\": \"https://api.github.com/repos/machine-learning-apps/actions-ml-cicd/commits{/sha}\",\n",
    "    \"compare_url\": \"https://api.github.com/repos/machine-learning-apps/actions-ml-cicd/compare/{base}...{head}\",\n",
    "    \"contents_url\": \"https://api.github.com/repos/machine-learning-apps/actions-ml-cicd/contents/{+path}\",\n",
    "    \"contributors_url\": \"https://api.github.com/repos/machine-learning-apps/actions-ml-cicd/contributors\",\n",
    "    \"created_at\": \"2019-09-10T20:01:38Z\",\n",
    "    \"default_branch\": \"master\",\n",
    "    \"deployments_url\": \"https://api.github.com/repos/machine-learning-apps/actions-ml-cicd/deployments\",\n",
    "    \"description\": \"Example of  CI/CD for Machine Learning Workflows with GitHub Actions\",\n",
    "    \"disabled\": false,\n",
    "    \"downloads_url\": \"https://api.github.com/repos/machine-learning-apps/actions-ml-cicd/downloads\",\n",
    "    \"events_url\": \"https://api.github.com/repos/machine-learning-apps/actions-ml-cicd/events\",\n",
    "    \"fork\": false,\n",
    "    \"forks\": 0,\n",
    "    \"forks_count\": 0,\n",
    "    \"forks_url\": \"https://api.github.com/repos/machine-learning-apps/actions-ml-cicd/forks\",\n",
    "    \"full_name\": \"machine-learning-apps/actions-ml-cicd\",\n",
    "    \"git_commits_url\": \"https://api.github.com/repos/machine-learning-apps/actions-ml-cicd/git/commits{/sha}\",\n",
    "    \"git_refs_url\": \"https://api.github.com/repos/machine-learning-apps/actions-ml-cicd/git/refs{/sha}\",\n",
    "    \"git_tags_url\": \"https://api.github.com/repos/machine-learning-apps/actions-ml-cicd/git/tags{/sha}\",\n",
    "    \"git_url\": \"git://github.com/machine-learning-apps/actions-ml-cicd.git\",\n",
    "    \"has_downloads\": true,\n",
    "    \"has_issues\": true,\n",
    "    \"has_pages\": false,\n",
    "    \"has_projects\": true,\n",
    "    \"has_wiki\": true,\n",
    "    \"homepage\": \"\",\n",
    "    \"hooks_url\": \"https://api.github.com/repos/machine-learning-apps/actions-ml-cicd/hooks\",\n",
    "    \"html_url\": \"https://github.com/machine-learning-apps/actions-ml-cicd\",\n",
    "    \"id\": 207652168,\n",
    "    \"issue_comment_url\": \"https://api.github.com/repos/machine-learning-apps/actions-ml-cicd/issues/comments{/number}\",\n",
    "    \"issue_events_url\": \"https://api.github.com/repos/machine-learning-apps/actions-ml-cicd/issues/events{/number}\",\n",
    "    \"issues_url\": \"https://api.github.com/repos/machine-learning-apps/actions-ml-cicd/issues{/number}\",\n",
    "    \"keys_url\": \"https://api.github.com/repos/machine-learning-apps/actions-ml-cicd/keys{/key_id}\",\n",
    "    \"labels_url\": \"https://api.github.com/repos/machine-learning-apps/actions-ml-cicd/labels{/name}\",\n",
    "    \"language\": \"Jupyter Notebook\",\n",
    "    \"languages_url\": \"https://api.github.com/repos/machine-learning-apps/actions-ml-cicd/languages\",\n",
    "    \"license\": null,\n",
    "    \"merges_url\": \"https://api.github.com/repos/machine-learning-apps/actions-ml-cicd/merges\",\n",
    "    \"milestones_url\": \"https://api.github.com/repos/machine-learning-apps/actions-ml-cicd/milestones{/number}\",\n",
    "    \"mirror_url\": null,\n",
    "    \"name\": \"actions-ml-cicd\",\n",
    "    \"node_id\": \"MDEwOlJlcG9zaXRvcnkyMDc2NTIxNjg=\",\n",
    "    \"notifications_url\": \"https://api.github.com/repos/machine-learning-apps/actions-ml-cicd/notifications{?since,all,participating}\",\n",
    "    \"open_issues\": 0,\n",
    "    \"open_issues_count\": 0,\n",
    "    \"owner\": {\n",
    "      \"avatar_url\": \"https://avatars2.githubusercontent.com/u/49846054?v=4\",\n",
    "      \"events_url\": \"https://api.github.com/users/machine-learning-apps/events{/privacy}\",\n",
    "      \"followers_url\": \"https://api.github.com/users/machine-learning-apps/followers\",\n",
    "      \"following_url\": \"https://api.github.com/users/machine-learning-apps/following{/other_user}\",\n",
    "      \"gists_url\": \"https://api.github.com/users/machine-learning-apps/gists{/gist_id}\",\n",
    "      \"gravatar_id\": \"\",\n",
    "      \"html_url\": \"https://github.com/machine-learning-apps\",\n",
    "      \"id\": 49846054,\n",
    "      \"login\": \"machine-learning-apps\",\n",
    "      \"node_id\": \"MDEyOk9yZ2FuaXphdGlvbjQ5ODQ2MDU0\",\n",
    "      \"organizations_url\": \"https://api.github.com/users/machine-learning-apps/orgs\",\n",
    "      \"received_events_url\": \"https://api.github.com/users/machine-learning-apps/received_events\",\n",
    "      \"repos_url\": \"https://api.github.com/users/machine-learning-apps/repos\",\n",
    "      \"site_admin\": false,\n",
    "      \"starred_url\": \"https://api.github.com/users/machine-learning-apps/starred{/owner}{/repo}\",\n",
    "      \"subscriptions_url\": \"https://api.github.com/users/machine-learning-apps/subscriptions\",\n",
    "      \"type\": \"Organization\",\n",
    "      \"url\": \"https://api.github.com/users/machine-learning-apps\"\n",
    "    },\n",
    "    \"private\": false,\n",
    "    \"pulls_url\": \"https://api.github.com/repos/machine-learning-apps/actions-ml-cicd/pulls{/number}\",\n",
    "    \"pushed_at\": \"2019-09-30T19:16:59Z\",\n",
    "    \"releases_url\": \"https://api.github.com/repos/machine-learning-apps/actions-ml-cicd/releases{/id}\",\n",
    "    \"size\": 49,\n",
    "    \"ssh_url\": \"git@github.com:machine-learning-apps/actions-ml-cicd.git\",\n",
    "    \"stargazers_count\": 2,\n",
    "    \"stargazers_url\": \"https://api.github.com/repos/machine-learning-apps/actions-ml-cicd/stargazers\",\n",
    "    \"statuses_url\": \"https://api.github.com/repos/machine-learning-apps/actions-ml-cicd/statuses/{sha}\",\n",
    "    \"subscribers_url\": \"https://api.github.com/repos/machine-learning-apps/actions-ml-cicd/subscribers\",\n",
    "    \"subscription_url\": \"https://api.github.com/repos/machine-learning-apps/actions-ml-cicd/subscription\",\n",
    "    \"svn_url\": \"https://github.com/machine-learning-apps/actions-ml-cicd\",\n",
    "    \"tags_url\": \"https://api.github.com/repos/machine-learning-apps/actions-ml-cicd/tags\",\n",
    "    \"teams_url\": \"https://api.github.com/repos/machine-learning-apps/actions-ml-cicd/teams\",\n",
    "    \"trees_url\": \"https://api.github.com/repos/machine-learning-apps/actions-ml-cicd/git/trees{/sha}\",\n",
    "    \"updated_at\": \"2019-09-30T19:17:02Z\",\n",
    "    \"url\": \"https://api.github.com/repos/machine-learning-apps/actions-ml-cicd\",\n",
    "    \"watchers\": 2,\n",
    "    \"watchers_count\": 2\n",
    "  },\n",
    "  \"sender\": {\n",
    "    \"avatar_url\": \"https://avatars2.githubusercontent.com/u/1483922?v=4\",\n",
    "    \"events_url\": \"https://api.github.com/users/hamelsmu/events{/privacy}\",\n",
    "    \"followers_url\": \"https://api.github.com/users/hamelsmu/followers\",\n",
    "    \"following_url\": \"https://api.github.com/users/hamelsmu/following{/other_user}\",\n",
    "    \"gists_url\": \"https://api.github.com/users/hamelsmu/gists{/gist_id}\",\n",
    "    \"gravatar_id\": \"\",\n",
    "    \"html_url\": \"https://github.com/hamelsmu\",\n",
    "    \"id\": 1483922,\n",
    "    \"login\": \"hamelsmu\",\n",
    "    \"node_id\": \"MDQ6VXNlcjE0ODM5MjI=\",\n",
    "    \"organizations_url\": \"https://api.github.com/users/hamelsmu/orgs\",\n",
    "    \"received_events_url\": \"https://api.github.com/users/hamelsmu/received_events\",\n",
    "    \"repos_url\": \"https://api.github.com/users/hamelsmu/repos\",\n",
    "    \"site_admin\": true,\n",
    "    \"starred_url\": \"https://api.github.com/users/hamelsmu/starred{/owner}{/repo}\",\n",
    "    \"subscriptions_url\": \"https://api.github.com/users/hamelsmu/subscriptions\",\n",
    "    \"type\": \"User\",\n",
    "    \"url\": \"https://api.github.com/users/hamelsmu\"\n",
    "  }\n",
    "}\n",
    "\n",
    "```"
   ]
  },
  {
   "cell_type": "markdown",
   "metadata": {},
   "source": [
    "# Create a Check Run\n",
    "\n",
    "You probably want to do this with Actions, because otherwhise Check Runs require a GitHub App (you cannot use an OAuth App)"
   ]
  },
  {
   "cell_type": "code",
   "execution_count": 118,
   "metadata": {},
   "outputs": [],
   "source": [
    "GITHUB_ACTIONS_TOKEN = 'YOUR TOKEN'"
   ]
  },
  {
   "cell_type": "code",
   "execution_count": 119,
   "metadata": {},
   "outputs": [],
   "source": [
    "url = f'https://api.github.com/repos/{owner}/{repo}/check-runs'\n",
    "headers = {'authorization': f'token {GITHUB_ACTIONS_TOKEN}',\n",
    "           'accept': 'application/vnd.github.antiope-preview+json'}\n",
    "\n",
    "data = {\n",
    "    'name': 'test-check-run',\n",
    "    'head_sha': '9c95ff6eda13cf0334e3d056485385fce87eb46c',\n",
    "    'status': 'in_progress',\n",
    "    'details_url': 'http://34.95.87.135/workflows',\n",
    "    'output':{\n",
    "        'title': 'A sample check run',\n",
    "        'summary': 'This check run is to make sure we understand how to start / stop a check run',\n",
    "        'text': 'this is the text of the check run.'\n",
    "    },\n",
    "}"
   ]
  },
  {
   "cell_type": "code",
   "execution_count": 120,
   "metadata": {},
   "outputs": [],
   "source": [
    "response = requests.post(url=url, headers=headers, json=data)"
   ]
  },
  {
   "cell_type": "code",
   "execution_count": 121,
   "metadata": {},
   "outputs": [
    {
     "data": {
      "text/plain": [
       "201"
      ]
     },
     "execution_count": 121,
     "metadata": {},
     "output_type": "execute_result"
    }
   ],
   "source": [
    "response.status_code"
   ]
  },
  {
   "cell_type": "markdown",
   "metadata": {},
   "source": [
    "The above code automatically created a check run on the right branch according to the `SHA`"
   ]
  },
  {
   "cell_type": "markdown",
   "metadata": {},
   "source": [
    "#### Update the text of the check run"
   ]
  },
  {
   "cell_type": "code",
   "execution_count": 86,
   "metadata": {},
   "outputs": [],
   "source": [
    "data = {\n",
    "    'name': 'test-check-run',\n",
    "    'head_sha': '9c95ff6eda13cf0334e3d056485385fce87eb46c',\n",
    "    'status': 'in_progress',\n",
    "    'details_url': 'http://34.95.87.135/workflows',\n",
    "    'output':{\n",
    "        'title': 'Running - A sample check run',\n",
    "        'summary': 'Running - This check run is to make sure we understand how to start / stop a check run',\n",
    "        'text': 'Running - this is the text of the check run.'\n",
    "    }\n",
    "}"
   ]
  },
  {
   "cell_type": "code",
   "execution_count": 87,
   "metadata": {},
   "outputs": [
    {
     "data": {
      "text/plain": [
       "<Response [201]>"
      ]
     },
     "execution_count": 87,
     "metadata": {},
     "output_type": "execute_result"
    }
   ],
   "source": [
    "response = requests.post(url=url, headers=headers, json=data)\n",
    "response"
   ]
  },
  {
   "cell_type": "markdown",
   "metadata": {},
   "source": [
    "#### Now, let's complete the check run"
   ]
  },
  {
   "cell_type": "code",
   "execution_count": 122,
   "metadata": {},
   "outputs": [],
   "source": [
    "data = {\n",
    "    'name': 'test-check-run',\n",
    "    'head_sha': '9c95ff6eda13cf0334e3d056485385fce87eb46c',\n",
    "    'status': 'completed',\n",
    "    'conclusion': 'success',\n",
    "    'details_url': 'http://34.95.87.135/workflows',\n",
    "        'output':{\n",
    "        'title': 'COMPLETED - A sample check run',\n",
    "        'summary': 'COMPLETED - This check run is to make sure we understand how to start / stop a check run',\n",
    "        'text': 'COMPLETED - this is the text of the check run.'\n",
    "    }\n",
    "}"
   ]
  },
  {
   "cell_type": "code",
   "execution_count": 123,
   "metadata": {},
   "outputs": [],
   "source": [
    "response = requests.post(url=url, headers=headers, json=data)"
   ]
  },
  {
   "cell_type": "code",
   "execution_count": 124,
   "metadata": {},
   "outputs": [
    {
     "data": {
      "text/plain": [
       "<Response [401]>"
      ]
     },
     "execution_count": 124,
     "metadata": {},
     "output_type": "execute_result"
    }
   ],
   "source": [
    "response"
   ]
  },
  {
   "cell_type": "markdown",
   "metadata": {},
   "source": [
    "The above code closed the check run"
   ]
  },
  {
   "cell_type": "code",
   "execution_count": null,
   "metadata": {},
   "outputs": [],
   "source": []
  }
 ],
 "metadata": {
  "kernelspec": {
   "display_name": "actions-ml-cicd",
   "language": "python",
   "name": "actions-ml-cicd"
  },
  "language_info": {
   "codemirror_mode": {
    "name": "ipython",
    "version": 3
   },
   "file_extension": ".py",
   "mimetype": "text/x-python",
   "name": "python",
   "nbconvert_exporter": "python",
   "pygments_lexer": "ipython3",
   "version": "3.7.4"
  }
 },
 "nbformat": 4,
 "nbformat_minor": 2
}
